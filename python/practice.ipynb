{
 "cells": [
  {
   "cell_type": "code",
   "execution_count": null,
   "id": "ac1edb48",
   "metadata": {},
   "outputs": [],
   "source": [
    "class Dog:\n",
    "    def __init__(self, name, breed):\n",
    "        self.name = name      # 名前（属性）\n",
    "        self.breed = breed    # 犬種（属性）      \n",
    "\n",
    "    def bark(self):\n",
    "        print(f\"{self.name}がワンワン！と吠える\")  # 動作（メソッド）\n",
    "\n",
    " \n"
   ]
  },
  {
   "cell_type": "code",
   "execution_count": 16,
   "id": "8f1b4c25",
   "metadata": {},
   "outputs": [
    {
     "name": "stdout",
     "output_type": "stream",
     "text": [
      "ポチがワンワン！と吠える\n",
      "レオがワンワン！と吠える\n"
     ]
    }
   ],
   "source": [
    "dog1 = Dog(\"ポチ\", \"柴犬\")\n",
    "dog2 = Dog(\"レオ\", \"ゴールデンレトリバー\")\n",
    "\n",
    "dog1.bark()  # ポチがワンワン！と吠える\n",
    "dog2.bark()  # レオがワンワン！と吠える\n"
   ]
  },
  {
   "cell_type": "code",
   "execution_count": 17,
   "id": "dd34d220",
   "metadata": {},
   "outputs": [],
   "source": [
    "class Dog:\n",
    "    def __init__(self, name, breed, age):\n",
    "        self.name = name      # 名前（属性）\n",
    "        self.breed = breed    # 犬種（属性）  \n",
    "        self.age = age        # 年齢（属性）    \n",
    "\n",
    "    def bark(self):\n",
    "        print(f\"{self.name}がワンワン！と吠える\")  # 動作（メソッド）"
   ]
  },
  {
   "cell_type": "code",
   "execution_count": 18,
   "id": "5d5c7cfe",
   "metadata": {},
   "outputs": [],
   "source": [
    "dog1 = Dog(\"Buddy\", \"Golden Retriever\", 3)\n",
    "dog2 = Dog(\"Max\", \"Bulldog\", 5)"
   ]
  },
  {
   "cell_type": "code",
   "execution_count": 23,
   "id": "5d2a0693",
   "metadata": {},
   "outputs": [
    {
     "name": "stdout",
     "output_type": "stream",
     "text": [
      "Buddyがワンワン！と吠える\n"
     ]
    }
   ],
   "source": [
    "dog1.bark()  # Output: \"Buddy says Woof!\""
   ]
  },
  {
   "cell_type": "code",
   "execution_count": 27,
   "id": "a31ec4f4",
   "metadata": {},
   "outputs": [
    {
     "name": "stdout",
     "output_type": "stream",
     "text": [
      "This is a descriptor\n"
     ]
    }
   ],
   "source": [
    "class Descriptor:\n",
    "    def __get__(self, instance, owner):\n",
    "        return \"This is a descriptor\"\n",
    "\n",
    "class MyClass:\n",
    "    attr = Descriptor()\n",
    "\n",
    "obj = MyClass()\n",
    "print(obj.attr)  # 出力: This is a descriptor\n",
    "dog2.bark = bark.__get__(dog2)"
   ]
  }
 ],
 "metadata": {
  "kernelspec": {
   "display_name": "base",
   "language": "python",
   "name": "python3"
  },
  "language_info": {
   "codemirror_mode": {
    "name": "ipython",
    "version": 3
   },
   "file_extension": ".py",
   "mimetype": "text/x-python",
   "name": "python",
   "nbconvert_exporter": "python",
   "pygments_lexer": "ipython3",
   "version": "3.12.7"
  }
 },
 "nbformat": 4,
 "nbformat_minor": 5
}
