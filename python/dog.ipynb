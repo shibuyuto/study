{
 "cells": [
  {
   "cell_type": "code",
   "execution_count": 9,
   "id": "c32fbe22",
   "metadata": {},
   "outputs": [],
   "source": [
    "class Dog:\n",
    "    def __init__(self, name, breed, age):\n",
    "        self.name = name\n",
    "        self.breed = breed\n",
    "        self.age = age\n",
    "\n",
    "    def bark(self):\n",
    "        print(\"Woof! Woof!\")"
   ]
  },
  {
   "cell_type": "code",
   "execution_count": 10,
   "id": "fc6603e3",
   "metadata": {},
   "outputs": [],
   "source": [
    "dog1 = Dog(\"Buddy\", \"Golden Retriever\", 3)\n",
    "dog2 = Dog(\"Max\", \"Bulldog\", 5)"
   ]
  },
  {
   "cell_type": "code",
   "execution_count": 11,
   "id": "aaadc7d8",
   "metadata": {},
   "outputs": [
    {
     "name": "stdout",
     "output_type": "stream",
     "text": [
      "Woof! Woof!\n",
      "Woof! Woof!\n"
     ]
    }
   ],
   "source": [
    "dog1.bark()\n",
    "dog2.bark()"
   ]
  },
  {
   "cell_type": "code",
   "execution_count": 13,
   "id": "409304ac",
   "metadata": {},
   "outputs": [
    {
     "name": "stdout",
     "output_type": "stream",
     "text": [
      "新しい Dog インスタンス (ID: 2466355923520) が作られました！\n",
      "名前を 'ポチ' に設定しました。\n",
      "新しい Dog インスタンス (ID: 2466355719168) が作られました！\n",
      "名前を 'ハチ' に設定しました。\n",
      "--------------------\n",
      "ポチ: ワン！ (ID: 2466355923520)\n",
      "ハチ: ワン！ (ID: 2466355719168)\n",
      "ポチの名前: ポチ\n",
      "ハチの名前: ハチ\n"
     ]
    }
   ],
   "source": [
    "class Dog3:\n",
    "    def __init__(self, name):\n",
    "        print(f\"新しい Dog インスタンス (ID: {id(self)}) が作られました！\")\n",
    "        # self を使って、このインスタンス固有の 'name' 属性を設定\n",
    "        self.name = name\n",
    "        print(f\"名前を '{self.name}' に設定しました。\")\n",
    "\n",
    "    def bark(self):\n",
    "        # self を使って、このインスタンスの 'name' 属性にアクセス\n",
    "        print(f\"{self.name}: ワン！ (ID: {id(self)})\")\n",
    "\n",
    "# インスタンスを作成すると、__init__が自動的に呼ばれる\n",
    "pochi = Dog3(\"ポチ\")  # このとき、新しく作られた Dog インスタンスが self に渡される\n",
    "hachi = Dog3(\"ハチ\")  # このときも、新しく作られた別の Dog インスタンスが self に渡される\n",
    "\n",
    "print(\"-\" * 20)\n",
    "\n",
    "# メソッドを呼び出すときも、内部的には self (インスタンス自身) が渡されている\n",
    "pochi.bark() # pochi インスタンスが self として bark メソッドに渡される\n",
    "hachi.bark() # hachi インスタンスが self として bark メソッドに渡される\n",
    "\n",
    "print(f\"ポチの名前: {pochi.name}\") # インスタンスの属性にアクセス\n",
    "print(f\"ハチの名前: {hachi.name}\") # インスタンスの属性にアクセス"
   ]
  },
  {
   "cell_type": "code",
   "execution_count": 23,
   "id": "6aa48b22",
   "metadata": {},
   "outputs": [],
   "source": [
    "class Cat :\n",
    "    def __init__ (self,name,cry):\n",
    "        self.name = name\n",
    "        self.cry = cry\n",
    "    def speak(self):\n",
    "        print(f\"{self.name}: {self.cry}\")"
   ]
  },
  {
   "cell_type": "code",
   "execution_count": 24,
   "id": "4e8b5377",
   "metadata": {},
   "outputs": [],
   "source": [
    "cat1 = Cat(\"ミケ\",\"ニャー\")\n",
    "cat2 = Cat(\"クロ\",\"フシャー\")"
   ]
  },
  {
   "cell_type": "code",
   "execution_count": 25,
   "id": "fce37fba",
   "metadata": {},
   "outputs": [
    {
     "name": "stdout",
     "output_type": "stream",
     "text": [
      "ミケ: ニャー\n"
     ]
    }
   ],
   "source": [
    "cat1.speak()"
   ]
  },
  {
   "cell_type": "code",
   "execution_count": 26,
   "id": "7af72269",
   "metadata": {},
   "outputs": [
    {
     "name": "stdout",
     "output_type": "stream",
     "text": [
      "クロ: フシャー\n"
     ]
    }
   ],
   "source": [
    "cat2.speak()"
   ]
  },
  {
   "cell_type": "code",
   "execution_count": 28,
   "id": "e167f331",
   "metadata": {},
   "outputs": [
    {
     "data": {
      "text/plain": [
       "'ミケ'"
      ]
     },
     "execution_count": 28,
     "metadata": {},
     "output_type": "execute_result"
    }
   ],
   "source": [
    "cat1.name"
   ]
  },
  {
   "cell_type": "code",
   "execution_count": 29,
   "id": "532aed62",
   "metadata": {},
   "outputs": [],
   "source": [
    "#まずは基本構文を抑える。宣言の仕方、\n",
    "# インスタンスの作成、属性とメソッド\n",
    "#の使い方。\n",
    "#  "
   ]
  },
  {
   "cell_type": "markdown",
   "id": "b8f8b08e",
   "metadata": {},
   "source": [
    "# 1. カプセル化（Encapsulation）"
   ]
  },
  {
   "cell_type": "code",
   "execution_count": 30,
   "id": "a59ce84f",
   "metadata": {},
   "outputs": [
    {
     "name": "stdout",
     "output_type": "stream",
     "text": [
      "15000\n",
      "8000\n"
     ]
    }
   ],
   "source": [
    "class BankAccount:\n",
    "    def __init__(self, owner, balance):\n",
    "        self.owner = owner\n",
    "        self.__balance = balance  # 外から直接アクセスできない（カプセル化）\n",
    "\n",
    "    def deposit(self, amount):\n",
    "        self.__balance += amount\n",
    "\n",
    "    def withdraw(self, amount):\n",
    "        if amount <= self.__balance:\n",
    "            self.__balance -= amount\n",
    "        else:\n",
    "            print(\"残高不足\")\n",
    "\n",
    "    def get_balance(self):\n",
    "        return self.__balance\n",
    "\n",
    "# 使い方\n",
    "account = BankAccount(\"佐藤\", 10000)\n",
    "account.deposit(5000)\n",
    "print(account.get_balance())  # 15000\n",
    "account.withdraw(7000)\n",
    "print(account.get_balance())  # 8000\n"
   ]
  },
  {
   "cell_type": "markdown",
   "id": "39218907",
   "metadata": {},
   "source": [
    "# 2. 継承（Inheritance）"
   ]
  },
  {
   "cell_type": "code",
   "execution_count": 31,
   "id": "235ed2c3",
   "metadata": {},
   "outputs": [
    {
     "name": "stdout",
     "output_type": "stream",
     "text": [
      "ポチ：ワンワン！\n",
      "タマ：ニャー！\n"
     ]
    }
   ],
   "source": [
    "class Animal:\n",
    "    def __init__(self, name):\n",
    "        self.name = name\n",
    "\n",
    "    def speak(self):\n",
    "        print(\"何か話す\")\n",
    "\n",
    "class Dog(Animal):  # Animalを継承\n",
    "    def speak(self):\n",
    "        print(f\"{self.name}：ワンワン！\")\n",
    "\n",
    "class Cat(Animal):\n",
    "    def speak(self):\n",
    "        print(f\"{self.name}：ニャー！\")\n",
    "\n",
    "# 使い方\n",
    "dog = Dog(\"ポチ\")\n",
    "cat = Cat(\"タマ\")\n",
    "\n",
    "dog.speak()  # ポチ：ワンワン！\n",
    "cat.speak()  # タマ：ニャー！\n",
    "\n",
    "\n",
    "\n"
   ]
  },
  {
   "cell_type": "markdown",
   "id": "2e38d89f",
   "metadata": {},
   "source": [
    "# 3. ポリモーフィズム（多態性）\n"
   ]
  },
  {
   "cell_type": "code",
   "execution_count": 32,
   "id": "47eb6d81",
   "metadata": {},
   "outputs": [
    {
     "name": "stdout",
     "output_type": "stream",
     "text": [
      "レオ：ワンワン！\n",
      "ミケ：ニャー！\n"
     ]
    }
   ],
   "source": [
    "def make_animal_speak(animal):\n",
    "    animal.speak()\n",
    "\n",
    "animals = [Dog(\"レオ\"), Cat(\"ミケ\")]\n",
    "\n",
    "for a in animals:\n",
    "    make_animal_speak(a)"
   ]
  }
 ],
 "metadata": {
  "kernelspec": {
   "display_name": "base",
   "language": "python",
   "name": "python3"
  },
  "language_info": {
   "codemirror_mode": {
    "name": "ipython",
    "version": 3
   },
   "file_extension": ".py",
   "mimetype": "text/x-python",
   "name": "python",
   "nbconvert_exporter": "python",
   "pygments_lexer": "ipython3",
   "version": "3.12.7"
  }
 },
 "nbformat": 4,
 "nbformat_minor": 5
}
